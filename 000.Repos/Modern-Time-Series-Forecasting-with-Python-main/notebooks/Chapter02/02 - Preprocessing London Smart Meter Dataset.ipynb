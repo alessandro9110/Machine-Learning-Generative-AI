{
 "cells": [
  {
   "cell_type": "code",
   "execution_count": 0,
   "metadata": {
    "application/vnd.databricks.v1+cell": {
     "cellMetadata": {},
     "inputWidgets": {},
     "nuid": "f84cfc9a-f543-49c8-987f-a6e5e1227bba",
     "showTitle": false,
     "title": ""
    }
   },
   "outputs": [],
   "source": [
    "#Changing the working directory to the root\n",
    "%cd ../.."
   ]
  },
  {
   "cell_type": "code",
   "execution_count": 0,
   "metadata": {
    "application/vnd.databricks.v1+cell": {
     "cellMetadata": {},
     "inputWidgets": {},
     "nuid": "846ba07f-8f1a-4044-b8d4-602e055077b9",
     "showTitle": false,
     "title": ""
    }
   },
   "outputs": [],
   "source": [
    "import numpy as np\n",
    "import matplotlib.pyplot as plt\n",
    "import plotly.express as px\n",
    "import os\n",
    "import plotly.io as pio\n",
    "pio.templates.default = \"plotly_white\"\n",
    "import pandas as pd\n",
    "from pathlib import Path\n",
    "from tqdm.autonotebook import tqdm\n",
    "# %load_ext autoreload\n",
    "# %autoreload 2\n",
    "np.random.seed()\n",
    "tqdm.pandas()"
   ]
  },
  {
   "cell_type": "markdown",
   "metadata": {
    "application/vnd.databricks.v1+cell": {
     "cellMetadata": {},
     "inputWidgets": {},
     "nuid": "31b04220-47d8-4980-b940-fa6c32009cee",
     "showTitle": false,
     "title": ""
    },
    "tags": []
   },
   "source": [
    "# Reading data to pandas dataframe\n",
    "\n",
    "Let's use London Smart Meters dataset from Kaggle for the current exercise. The source of the data is from London Data Store and Jean-Michel D. has augumented the dataset with a few more details and packaged it as a Kaggle Dataset.\n",
    "\n",
    "## About the Dataset\n",
    "\n",
    "London Data Store, free and open data-sharing portal, provided this dataset, which was collected and enriched by Jean-Michel D and uploaded on Kaggle @ https://www.kaggle.com/jeanmidev/smart-meters-in-london. \n",
    "The dataset has energy consumption readings for a sample of 5,567 London Households that took part in the UK Power Networks led Low Carbon London project between November 2011 and February 2014. Readings were taken at half hourly intervals. Some metadata about the households are also available as part of the dataset.\n",
    "\n",
    "## Data Wrangling\n",
    "The Kaggle dataset also has the time series data preprocessed on a daily level and combined all the separate files, etc. But let’s ignore those files and start with the raw files, which is in the hhblock_dataset folder."
   ]
  },
  {
   "cell_type": "code",
   "execution_count": 0,
   "metadata": {
    "application/vnd.databricks.v1+cell": {
     "cellMetadata": {},
     "inputWidgets": {},
     "nuid": "30aa4b1b-eee9-487f-82b4-72021a79330c",
     "showTitle": false,
     "title": ""
    }
   },
   "outputs": [],
   "source": [
    "os.makedirs(\"imgs/chapter_2\", exist_ok=True)\n",
    "source_data = Path(\"data/london_smart_meters/\")\n",
    "block_data_path = source_data/\"hhblock_dataset\"/\"hhblock_dataset\""
   ]
  },
  {
   "cell_type": "code",
   "execution_count": 0,
   "metadata": {
    "application/vnd.databricks.v1+cell": {
     "cellMetadata": {},
     "inputWidgets": {},
     "nuid": "7627e7a8-a803-47d1-9128-eda3593974e9",
     "showTitle": false,
     "title": ""
    }
   },
   "outputs": [],
   "source": [
    "assert block_data_path.is_dir(), \"Please check if the dataset has been downloaded properly. Refer to the Preface of the book or the Readme in the repo for expected data\""
   ]
  },
  {
   "cell_type": "markdown",
   "metadata": {
    "application/vnd.databricks.v1+cell": {
     "cellMetadata": {},
     "inputWidgets": {},
     "nuid": "cdcde5cf-89f7-419a-90de-d493dd3e119e",
     "showTitle": false,
     "title": ""
    },
    "tags": []
   },
   "source": [
    "### Converting the half hourly block level dataset into a time series data \n",
    "\n",
    "Let's pick one block and see how we can transform the data."
   ]
  },
  {
   "cell_type": "code",
   "execution_count": 0,
   "metadata": {
    "application/vnd.databricks.v1+cell": {
     "cellMetadata": {},
     "inputWidgets": {},
     "nuid": "42e6face-c2fb-46a5-8f3a-456443674211",
     "showTitle": false,
     "title": ""
    }
   },
   "outputs": [],
   "source": [
    "block_1 = pd.read_csv(block_data_path/\"block_0.csv\", parse_dates=False)\n",
    "\n",
    "block_1['day'] = pd.to_datetime(block_1['day'], yearfirst=True)\n",
    "\n",
    "block_1.head()"
   ]
  },
  {
   "cell_type": "code",
   "execution_count": 0,
   "metadata": {
    "application/vnd.databricks.v1+cell": {
     "cellMetadata": {},
     "inputWidgets": {},
     "nuid": "89a98542-782d-4798-868e-6f6ae813ec5c",
     "showTitle": false,
     "title": ""
    }
   },
   "outputs": [],
   "source": [
    "#Check End Dates of all time series\n",
    "block_1.groupby(\"LCLid\")['day'].max().sample(5)"
   ]
  },
  {
   "cell_type": "code",
   "execution_count": 0,
   "metadata": {
    "application/vnd.databricks.v1+cell": {
     "cellMetadata": {},
     "inputWidgets": {},
     "nuid": "5746611b-083e-4cef-a0ec-6957611e9d42",
     "showTitle": false,
     "title": ""
    }
   },
   "outputs": [],
   "source": [
    "max_date = None\n",
    "for f in tqdm(block_data_path.glob(\"*.csv\")):\n",
    "    df = pd.read_csv(f, parse_dates=False)\n",
    "    df['day'] = pd.to_datetime(df['day'], yearfirst=True)\n",
    "    if max_date is None:\n",
    "        max_date = df['day'].max()\n",
    "    else:\n",
    "        if df['day'].max()>max_date:\n",
    "            max_date = df['day'].max()\n",
    "print(f\"Max Date across all blocks: {max_date}\")\n",
    "del df"
   ]
  },
  {
   "cell_type": "code",
   "execution_count": 0,
   "metadata": {
    "application/vnd.databricks.v1+cell": {
     "cellMetadata": {},
     "inputWidgets": {},
     "nuid": "6d9b965a-da51-4182-b4e0-023d44098840",
     "showTitle": false,
     "title": ""
    }
   },
   "outputs": [],
   "source": [
    "#Reshaping the dataframe into the long form with hour blocks along the rows\n",
    "block_1 = block_1.set_index(['LCLid', \"day\"]).stack().reset_index().rename(columns={\"level_2\": \"hour_block\", 0: \"energy_consumption\"})\n",
    "#Creating a numerical hourblock column\n",
    "block_1['offset'] = block_1['hour_block'].str.replace(\"hh_\", \"\").astype(int)\n",
    "\n",
    "block_1.head()"
   ]
  },
  {
   "cell_type": "markdown",
   "metadata": {
    "application/vnd.databricks.v1+cell": {
     "cellMetadata": {},
     "inputWidgets": {},
     "nuid": "92615a97-f7d2-4c36-84b2-40604fa32fb4",
     "showTitle": false,
     "title": ""
    }
   },
   "source": [
    "#### Compact Form"
   ]
  },
  {
   "cell_type": "code",
   "execution_count": 0,
   "metadata": {
    "application/vnd.databricks.v1+cell": {
     "cellMetadata": {},
     "inputWidgets": {},
     "nuid": "f1a07211-7408-4aeb-884e-ab122b069d37",
     "showTitle": false,
     "title": ""
    }
   },
   "outputs": [],
   "source": [
    "def preprocess_compact(x):\n",
    "    start_date = x['day'].min()\n",
    "    name = x['LCLid'].unique()[0]\n",
    "    ### Fill missing dates with NaN ###\n",
    "    # Create a date range from  min to max\n",
    "    dr = pd.date_range(start=x['day'].min(), end=max_date, freq=\"1D\")\n",
    "    # Add hh_0 to hh_47 to columns and with some unstack magic recreating date-hh_x combinations\n",
    "    dr = pd.DataFrame(columns=[f\"hh_{i}\" for i in range(48)], index=dr).unstack().reset_index()\n",
    "    # renaming the columns\n",
    "    dr.columns = [\"hour_block\", \"day\", \"_\"]\n",
    "    # left merging the dataframe to the standard dataframe\n",
    "    # now the missing values will be left as NaN\n",
    "    dr = dr.merge(x, on=['hour_block','day'], how='left')\n",
    "    # sorting the rows\n",
    "    dr.sort_values(['day',\"offset\"], inplace=True)\n",
    "    # extracting the timeseries array\n",
    "    ts = dr['energy_consumption'].values\n",
    "    len_ts = len(ts)\n",
    "    return start_date, name, ts, len_ts"
   ]
  },
  {
   "cell_type": "code",
   "execution_count": 0,
   "metadata": {
    "application/vnd.databricks.v1+cell": {
     "cellMetadata": {},
     "inputWidgets": {},
     "nuid": "a7a5ccaf-ccda-4fcf-a19f-c57a73508e03",
     "showTitle": false,
     "title": ""
    }
   },
   "outputs": [],
   "source": [
    "def load_process_block_compact(block_df, freq=\"30min\", ts_identifier=\"series_name\", value_name=\"series_value\"):\n",
    "    grps = block_df.groupby('LCLid')\n",
    "    all_series = []\n",
    "    all_start_dates = []\n",
    "    all_names = []\n",
    "    all_data = {}\n",
    "    all_len = []\n",
    "    for idx, df in tqdm(grps, leave=False):\n",
    "        start_date, name, ts, len_ts = preprocess_compact(df)\n",
    "        all_series.append(ts)\n",
    "        all_start_dates.append(start_date)\n",
    "        all_names.append(name)\n",
    "        all_len.append(len_ts)\n",
    "\n",
    "    all_data[ts_identifier] = all_names\n",
    "    all_data['start_timestamp'] = all_start_dates\n",
    "    all_data['frequency'] = freq\n",
    "    all_data[value_name] = all_series\n",
    "    all_data['series_length'] = all_len\n",
    "    return pd.DataFrame(all_data)\n",
    "\n",
    "block1_compact = load_process_block_compact(block_1, freq=\"30min\", ts_identifier=\"LCLid\", value_name=\"energy_consumption\")"
   ]
  },
  {
   "cell_type": "code",
   "execution_count": 0,
   "metadata": {
    "application/vnd.databricks.v1+cell": {
     "cellMetadata": {},
     "inputWidgets": {},
     "nuid": "1cdd7766-9719-4e32-9f10-86395e9684b5",
     "showTitle": false,
     "title": ""
    }
   },
   "outputs": [],
   "source": [
    "block1_compact.head()"
   ]
  },
  {
   "cell_type": "code",
   "execution_count": 0,
   "metadata": {
    "application/vnd.databricks.v1+cell": {
     "cellMetadata": {},
     "inputWidgets": {},
     "nuid": "c009b7df-a2e4-4650-831b-0fc894fcaee9",
     "showTitle": false,
     "title": ""
    }
   },
   "outputs": [],
   "source": [
    "display(block1_compact.memory_usage(deep=True))\n",
    "print(f\"Total: {block1_compact.memory_usage(deep=True).sum()/1024**2} MB\")"
   ]
  },
  {
   "cell_type": "markdown",
   "metadata": {
    "application/vnd.databricks.v1+cell": {
     "cellMetadata": {},
     "inputWidgets": {},
     "nuid": "d1ec5ffd-3b70-480b-9f3f-806d9d5dc98e",
     "showTitle": false,
     "title": ""
    }
   },
   "source": [
    "#### Expanded Form"
   ]
  },
  {
   "cell_type": "code",
   "execution_count": 0,
   "metadata": {
    "application/vnd.databricks.v1+cell": {
     "cellMetadata": {},
     "inputWidgets": {},
     "nuid": "c87adbb1-ba55-4989-b739-b28f70dac283",
     "showTitle": false,
     "title": ""
    }
   },
   "outputs": [],
   "source": [
    "def preprocess_expanded(x):\n",
    "    start_date = x['day'].min()\n",
    "    ### Fill missing dates with NaN ###\n",
    "    # Create a date range from  min to max\n",
    "    dr = pd.date_range(start=x['day'].min(), end=x['day'].max(), freq=\"1D\")\n",
    "    # Add hh_0 to hh_47 to columns and with some unstack magic recreating date-hh_x combinations\n",
    "    dr = pd.DataFrame(columns=[f\"hh_{i}\" for i in range(48)], index=dr).unstack().reset_index()\n",
    "    # renaming the columns\n",
    "    dr.columns = [\"hour_block\", \"day\", \"_\"]\n",
    "    # left merging the dataframe to the standard dataframe\n",
    "    # now the missing values will be left as NaN\n",
    "    dr = dr.merge(x, on=['hour_block','day'], how='left')\n",
    "    dr['series_length'] = len(dr)\n",
    "    return dr"
   ]
  },
  {
   "cell_type": "code",
   "execution_count": 0,
   "metadata": {
    "application/vnd.databricks.v1+cell": {
     "cellMetadata": {},
     "inputWidgets": {},
     "nuid": "64240549-33f3-49e8-9bde-f004e12ffe18",
     "showTitle": false,
     "title": ""
    }
   },
   "outputs": [],
   "source": [
    "def load_process_block_expanded(block_df, freq=\"30min\"):\n",
    "    grps = block_df.groupby('LCLid')\n",
    "    all_series = []\n",
    "    for idx, df in tqdm(grps, leave=False):\n",
    "        ts = preprocess_expanded(df)\n",
    "        all_series.append(ts)\n",
    "\n",
    "    block_df = pd.concat(all_series)\n",
    "    # Recreate Offset because there would be null rows now\n",
    "    block_df['offset'] = block_df['hour_block'].str.replace(\"hh_\", \"\").astype(int)\n",
    "    # Creating a datetime column with the date | Will take some time because operation is not vectorized\n",
    "    block_df['timestamp'] = block_df['day'] + block_df['offset']*30*pd.offsets.Minute()\n",
    "    block_df['frequency'] = freq\n",
    "    block_df.sort_values([\"LCLid\",\"timestamp\"], inplace=True)\n",
    "    block_df.drop(columns=[\"_\", \"hour_block\", \"offset\", \"day\"], inplace=True)\n",
    "    return block_df\n",
    "#     del all_series\n",
    "block1_expanded = load_process_block_expanded(block_1, freq=\"30min\")"
   ]
  },
  {
   "cell_type": "code",
   "execution_count": 0,
   "metadata": {
    "application/vnd.databricks.v1+cell": {
     "cellMetadata": {},
     "inputWidgets": {},
     "nuid": "c78d02ed-e669-4408-9514-3171bdc6c84a",
     "showTitle": false,
     "title": ""
    }
   },
   "outputs": [],
   "source": [
    "block1_expanded.head()"
   ]
  },
  {
   "cell_type": "code",
   "execution_count": 0,
   "metadata": {
    "application/vnd.databricks.v1+cell": {
     "cellMetadata": {},
     "inputWidgets": {},
     "nuid": "7d92636b-d592-41c4-aa97-3bad3c2070ab",
     "showTitle": false,
     "title": ""
    }
   },
   "outputs": [],
   "source": [
    "display(block1_expanded.memory_usage())\n",
    "print(f\"Total: {block1_expanded.memory_usage().sum()/1024**2} MB\")"
   ]
  },
  {
   "cell_type": "code",
   "execution_count": 0,
   "metadata": {
    "application/vnd.databricks.v1+cell": {
     "cellMetadata": {},
     "inputWidgets": {},
     "nuid": "614be31d-3da7-423b-9147-ca7fdba7be8e",
     "showTitle": false,
     "title": ""
    }
   },
   "outputs": [],
   "source": [
    "del block1_expanded, block_1, block1_compact"
   ]
  },
  {
   "cell_type": "markdown",
   "metadata": {
    "application/vnd.databricks.v1+cell": {
     "cellMetadata": {},
     "inputWidgets": {},
     "nuid": "0c9588d5-d875-4b62-b065-59f82f3f07d4",
     "showTitle": false,
     "title": ""
    },
    "tags": []
   },
   "source": [
    "#### Reading and combining all the block data into a single dataframe"
   ]
  },
  {
   "cell_type": "code",
   "execution_count": 0,
   "metadata": {
    "application/vnd.databricks.v1+cell": {
     "cellMetadata": {},
     "inputWidgets": {},
     "nuid": "e9252328-f9ef-4085-9682-4ec36c02d63f",
     "showTitle": false,
     "title": ""
    },
    "tags": []
   },
   "outputs": [],
   "source": [
    "block_df_l = []\n",
    "for file in tqdm(sorted(list(block_data_path.glob(\"*.csv\"))), desc=\"Processing Blocks..\"):\n",
    "    block_df = pd.read_csv(file, parse_dates=False)\n",
    "    block_df['day'] = pd.to_datetime(block_df['day'], yearfirst=True)\n",
    "    # Taking only from 2012-01-01\n",
    "    block_df = block_df.loc[block_df['day']>=\"2012-01-01\"]\n",
    "    #Reshaping the dataframe into the long form with hour blocks along the rows\n",
    "    block_df = block_df.set_index(['LCLid', \"day\"]).stack().reset_index().rename(columns={\"level_2\": \"hour_block\", 0: \"energy_consumption\"})\n",
    "    #Creating a numerical hourblock column\n",
    "    block_df['offset'] = block_df['hour_block'].str.replace(\"hh_\", \"\").astype(int)\n",
    "    block_df_l.append(load_process_block_compact(block_df, freq=\"30min\", ts_identifier=\"LCLid\", value_name=\"energy_consumption\"))"
   ]
  },
  {
   "cell_type": "code",
   "execution_count": 0,
   "metadata": {
    "application/vnd.databricks.v1+cell": {
     "cellMetadata": {},
     "inputWidgets": {},
     "nuid": "d5afaa8a-2ea6-4c4f-9897-99d289958f46",
     "showTitle": false,
     "title": ""
    },
    "tags": []
   },
   "outputs": [],
   "source": [
    "hhblock_df = pd.concat(block_df_l)\n",
    "del block_df_l\n",
    "display(hhblock_df.memory_usage(deep=True))\n",
    "print(f\"Total: {hhblock_df.memory_usage(deep=True).sum()/1024**2} MB\")"
   ]
  },
  {
   "cell_type": "code",
   "execution_count": 0,
   "metadata": {
    "application/vnd.databricks.v1+cell": {
     "cellMetadata": {},
     "inputWidgets": {},
     "nuid": "f139663d-1223-4edc-85ef-c729dc0fd63b",
     "showTitle": false,
     "title": ""
    }
   },
   "outputs": [],
   "source": [
    "hhblock_df.head()"
   ]
  },
  {
   "cell_type": "markdown",
   "metadata": {
    "application/vnd.databricks.v1+cell": {
     "cellMetadata": {},
     "inputWidgets": {},
     "nuid": "c7f705a7-6464-4993-a513-e4d7ee092acf",
     "showTitle": false,
     "title": ""
    },
    "tags": []
   },
   "source": [
    "### Merging additional information"
   ]
  },
  {
   "cell_type": "markdown",
   "metadata": {
    "application/vnd.databricks.v1+cell": {
     "cellMetadata": {},
     "inputWidgets": {},
     "nuid": "3169732c-20b4-4e63-9b22-5cc891a24ef0",
     "showTitle": false,
     "title": ""
    },
    "tags": []
   },
   "source": [
    "#### Household information"
   ]
  },
  {
   "cell_type": "code",
   "execution_count": 0,
   "metadata": {
    "application/vnd.databricks.v1+cell": {
     "cellMetadata": {},
     "inputWidgets": {},
     "nuid": "86bb5cb5-5392-41e0-8e6a-01006b392c12",
     "showTitle": false,
     "title": ""
    }
   },
   "outputs": [],
   "source": [
    "household_info = pd.read_csv(source_data/\"informations_households.csv\")\n",
    "household_info.head()"
   ]
  },
  {
   "cell_type": "code",
   "execution_count": 0,
   "metadata": {
    "application/vnd.databricks.v1+cell": {
     "cellMetadata": {},
     "inputWidgets": {},
     "nuid": "77b1a011-7bc8-494e-911f-1a26af91f4d0",
     "showTitle": false,
     "title": ""
    }
   },
   "outputs": [],
   "source": [
    "hhblock_df = hhblock_df.merge(household_info, on='LCLid', validate=\"one_to_one\")\n",
    "hhblock_df.head()"
   ]
  },
  {
   "cell_type": "markdown",
   "metadata": {
    "application/vnd.databricks.v1+cell": {
     "cellMetadata": {},
     "inputWidgets": {},
     "nuid": "4605abc1-ec5b-4794-83df-9ffe62a9e7aa",
     "showTitle": false,
     "title": ""
    },
    "tags": []
   },
   "source": [
    "#### Weather and Bank Holidays"
   ]
  },
  {
   "cell_type": "code",
   "execution_count": 0,
   "metadata": {
    "application/vnd.databricks.v1+cell": {
     "cellMetadata": {},
     "inputWidgets": {},
     "nuid": "9d84a362-ddf9-435b-ab6f-3bf9a14c40b1",
     "showTitle": false,
     "title": ""
    }
   },
   "outputs": [],
   "source": [
    "bank_holidays = pd.read_csv(source_data/\"uk_bank_holidays.csv\", parse_dates=False)\n",
    "bank_holidays['Bank holidays'] = pd.to_datetime(bank_holidays['Bank holidays'], yearfirst=True)\n",
    "bank_holidays.set_index(\"Bank holidays\", inplace=True)\n",
    "bank_holidays.head()"
   ]
  },
  {
   "cell_type": "code",
   "execution_count": 0,
   "metadata": {
    "application/vnd.databricks.v1+cell": {
     "cellMetadata": {},
     "inputWidgets": {},
     "nuid": "655e1696-fea7-4cbf-9fe5-c6215f648d44",
     "showTitle": false,
     "title": ""
    }
   },
   "outputs": [],
   "source": [
    "#Reindex on standard date range\n",
    "bank_holidays = bank_holidays.resample(\"30min\").asfreq()\n",
    "bank_holidays = bank_holidays.groupby(bank_holidays.index.date).ffill().fillna(\"NO_HOLIDAY\")\n",
    "bank_holidays.index.name=\"datetime\"\n",
    "bank_holidays.head()"
   ]
  },
  {
   "cell_type": "code",
   "execution_count": 0,
   "metadata": {
    "application/vnd.databricks.v1+cell": {
     "cellMetadata": {},
     "inputWidgets": {},
     "nuid": "5d9aded1-b9d6-47cc-9fcd-ad98a456a368",
     "showTitle": false,
     "title": ""
    }
   },
   "outputs": [],
   "source": [
    "weather_hourly = pd.read_csv(source_data/\"weather_hourly_darksky.csv\", parse_dates=False)\n",
    "weather_hourly['time'] = pd.to_datetime(weather_hourly['time'], yearfirst=True)\n",
    "weather_hourly.set_index(\"time\", inplace=True)\n",
    "weather_hourly.head()"
   ]
  },
  {
   "cell_type": "code",
   "execution_count": 0,
   "metadata": {
    "application/vnd.databricks.v1+cell": {
     "cellMetadata": {},
     "inputWidgets": {},
     "nuid": "4e7dffcc-f587-4e05-9ea6-9543c5412102",
     "showTitle": false,
     "title": ""
    }
   },
   "outputs": [],
   "source": [
    "#Resampling at 30min and forward fill\n",
    "weather_hourly = weather_hourly.resample(\"30min\").ffill()\n",
    "weather_hourly.head()"
   ]
  },
  {
   "cell_type": "code",
   "execution_count": 0,
   "metadata": {
    "application/vnd.databricks.v1+cell": {
     "cellMetadata": {},
     "inputWidgets": {},
     "nuid": "f7288b86-eac9-42e7-8b3d-58a1e079dd82",
     "showTitle": false,
     "title": ""
    }
   },
   "outputs": [],
   "source": [
    "def map_weather_holidays(row):\n",
    "    date_range = pd.date_range(row['start_timestamp'], periods=row['series_length'], freq=row['frequency'])\n",
    "    std_df = pd.DataFrame(index=date_range)\n",
    "    #Filling Na iwth NO_HOLIDAY cause rows before earliers holiday will be NaN\n",
    "    holidays = std_df.join(bank_holidays, how=\"left\").fillna(\"NO_HOLIDAY\")\n",
    "    weather = std_df.join(weather_hourly, how='left')\n",
    "    assert len(holidays)==row['series_length'], \"Length of holidays should be same as series length\"\n",
    "    assert len(weather)==row['series_length'], \"Length of weather should be same as series length\"\n",
    "    row['holidays'] = holidays['Type'].values\n",
    "    for col in weather:\n",
    "        row[col] = weather[col].values\n",
    "    return row"
   ]
  },
  {
   "cell_type": "code",
   "execution_count": 0,
   "metadata": {
    "application/vnd.databricks.v1+cell": {
     "cellMetadata": {},
     "inputWidgets": {},
     "nuid": "08243496-e116-4359-abe4-c4cfb5c1bbb1",
     "showTitle": false,
     "title": ""
    }
   },
   "outputs": [],
   "source": [
    "hhblock_df = hhblock_df.progress_apply(map_weather_holidays, axis=1)\n",
    "\n",
    "hhblock_df.head()"
   ]
  },
  {
   "cell_type": "code",
   "execution_count": 0,
   "metadata": {
    "application/vnd.databricks.v1+cell": {
     "cellMetadata": {},
     "inputWidgets": {},
     "nuid": "342b0f15-289b-4030-83ab-5d9b2512cf4f",
     "showTitle": false,
     "title": ""
    },
    "tags": []
   },
   "outputs": [],
   "source": [
    "del block_df, weather_hourly, bank_holidays, household_info"
   ]
  },
  {
   "cell_type": "code",
   "execution_count": 0,
   "metadata": {
    "application/vnd.databricks.v1+cell": {
     "cellMetadata": {},
     "inputWidgets": {},
     "nuid": "0e305cdc-04a4-4d99-9b4a-873073945ebf",
     "showTitle": false,
     "title": ""
    }
   },
   "outputs": [],
   "source": [
    "display(hhblock_df.memory_usage(deep=True))\n",
    "print(f\"Total: {hhblock_df.memory_usage(deep=True).sum()/1024**2} MB\")"
   ]
  },
  {
   "cell_type": "markdown",
   "metadata": {
    "application/vnd.databricks.v1+cell": {
     "cellMetadata": {},
     "inputWidgets": {},
     "nuid": "3328688a-d39f-4462-8ae9-06a2e0c0a10f",
     "showTitle": false,
     "title": ""
    }
   },
   "source": [
    "### Saving the file on disk"
   ]
  },
  {
   "cell_type": "markdown",
   "metadata": {
    "application/vnd.databricks.v1+cell": {
     "cellMetadata": {},
     "inputWidgets": {},
     "nuid": "3793e522-dc06-4bfd-8104-15a37d2eff16",
     "showTitle": false,
     "title": ""
    }
   },
   "source": [
    "Saving the entire dataset in a ts file"
   ]
  },
  {
   "cell_type": "code",
   "execution_count": 0,
   "metadata": {
    "application/vnd.databricks.v1+cell": {
     "cellMetadata": {},
     "inputWidgets": {},
     "nuid": "145bfa97-6d5d-446e-b1a0-37158ec25429",
     "showTitle": false,
     "title": ""
    }
   },
   "outputs": [],
   "source": [
    "os.makedirs(\"data/london_smart_meters/preprocessed\", exist_ok=True)"
   ]
  },
  {
   "cell_type": "code",
   "execution_count": 0,
   "metadata": {
    "application/vnd.databricks.v1+cell": {
     "cellMetadata": {},
     "inputWidgets": {},
     "nuid": "e59f7548-5f9d-4524-be45-0a7c60f0a014",
     "showTitle": false,
     "title": ""
    }
   },
   "outputs": [],
   "source": [
    "#Takes a long time to finish. Comment out and execute only if needed\n",
    "# from src.utils.data_utils import write_compact_to_ts\n",
    "# write_compact_to_ts(hhblock_df,\n",
    "#        static_columns = ['LCLid', 'start_timestamp', 'frequency','series_length', 'stdorToU', 'Acorn', 'Acorn_grouped', 'file'], \n",
    "#        time_varying_columns = ['energy_consumption', 'holidays', 'visibility', 'windBearing', 'temperature', 'dewPoint',\n",
    "#                               'pressure', 'apparentTemperature', 'windSpeed', 'precipType', 'icon','humidity', 'summary'],\n",
    "#        filename=f\"data/london_smart_meters/preprocessed/london_smart_meters_merged.ts\",\n",
    "#        sep=\";\",\n",
    "#       chunk_size=1000)"
   ]
  },
  {
   "cell_type": "code",
   "execution_count": 0,
   "metadata": {
    "application/vnd.databricks.v1+cell": {
     "cellMetadata": {},
     "inputWidgets": {},
     "nuid": "0273a516-dc09-449f-bb1e-7683fc71b055",
     "showTitle": false,
     "title": ""
    }
   },
   "outputs": [],
   "source": [
    "# Saving the LCLid - Acorn map as a pickle to be used later\n",
    "hhblock_df[['LCLid',\"file\", \"Acorn_grouped\"]].to_pickle(f\"data/london_smart_meters/preprocessed/london_smart_meters_lclid_acorn_map.pkl\")"
   ]
  },
  {
   "cell_type": "markdown",
   "metadata": {
    "application/vnd.databricks.v1+cell": {
     "cellMetadata": {},
     "inputWidgets": {},
     "nuid": "5d450a5e-3448-4508-a075-f076db178687",
     "showTitle": false,
     "title": ""
    }
   },
   "source": [
    "Saving blocks in 8 chunks as parquet"
   ]
  },
  {
   "cell_type": "code",
   "execution_count": 0,
   "metadata": {
    "application/vnd.databricks.v1+cell": {
     "cellMetadata": {},
     "inputWidgets": {},
     "nuid": "fac9ba40-3255-4a71-8458-5aabc659a110",
     "showTitle": false,
     "title": ""
    }
   },
   "outputs": [],
   "source": [
    "# Splitting the blocks into 8 chunks\n",
    "blocks = [f\"block_{i}\" for i in range(111)]\n",
    "\n",
    "n_chunks= 8\n",
    "split_blocks = [blocks[i:i + n_chunks] for i in range(0, len(blocks), n_chunks)] "
   ]
  },
  {
   "cell_type": "code",
   "execution_count": 0,
   "metadata": {
    "application/vnd.databricks.v1+cell": {
     "cellMetadata": {},
     "inputWidgets": {},
     "nuid": "10466d47-e76e-4725-9dfb-869071e35364",
     "showTitle": false,
     "title": ""
    },
    "tags": []
   },
   "outputs": [],
   "source": [
    "#Writing each chunk to disk\n",
    "for blk in tqdm(split_blocks):\n",
    "    df = hhblock_df.loc[hhblock_df.file.isin(blk)]\n",
    "    blk = [int(b.replace(\"block_\",\"\")) for b in blk]\n",
    "    block_str = f\"block_{min(blk)}-{max(blk)}\"\n",
    "    df.to_parquet(f\"data/london_smart_meters/preprocessed/london_smart_meters_merged_{block_str}.parquet\")"
   ]
  }
 ],
 "metadata": {
  "application/vnd.databricks.v1+notebook": {
   "dashboards": [],
   "language": "python",
   "notebookMetadata": {},
   "notebookName": "02 - Preprocessing London Smart Meter Dataset",
   "widgets": {}
  },
  "kernelspec": {
   "display_name": "modern_ts",
   "language": "python",
   "name": "python3"
  },
  "language_info": {
   "codemirror_mode": {
    "name": "ipython",
    "version": 3
   },
   "file_extension": ".py",
   "mimetype": "text/x-python",
   "name": "python",
   "nbconvert_exporter": "python",
   "pygments_lexer": "ipython3",
   "version": "3.9.0"
  },
  "vscode": {
   "interpreter": {
    "hash": "30fe1d27e07bcd39a201a380e0896b1a8ddc5b4c0f1bff527b499634c2e361cc"
   }
  }
 },
 "nbformat": 4,
 "nbformat_minor": 0
}
