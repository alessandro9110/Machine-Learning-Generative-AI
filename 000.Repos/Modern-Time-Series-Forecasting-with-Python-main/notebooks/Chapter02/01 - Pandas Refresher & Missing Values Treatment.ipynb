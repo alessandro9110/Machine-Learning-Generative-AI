{
 "cells": [
  {
   "cell_type": "code",
   "execution_count": 0,
   "metadata": {
    "application/vnd.databricks.v1+cell": {
     "cellMetadata": {},
     "inputWidgets": {},
     "nuid": "e9efcafc-c0d4-42b6-9b7b-565d0d194ed1",
     "showTitle": false,
     "title": ""
    }
   },
   "outputs": [],
   "source": [
    "#Changing the working directory to the root\n",
    "%cd ../.."
   ]
  },
  {
   "cell_type": "code",
   "execution_count": 0,
   "metadata": {
    "application/vnd.databricks.v1+cell": {
     "cellMetadata": {},
     "inputWidgets": {},
     "nuid": "3c370abe-22b7-4f01-961d-12300a13247a",
     "showTitle": false,
     "title": ""
    }
   },
   "outputs": [],
   "source": [
    "import numpy as np\n",
    "import matplotlib.pyplot as plt\n",
    "import plotly.express as px\n",
    "import plotly.graph_objects as go\n",
    "import os\n",
    "import plotly.io as pio\n",
    "pio.templates.default = \"plotly_white\"\n",
    "pio.kaleido.scope.mathjax = None\n",
    "import pandas as pd\n",
    "from pathlib import Path\n",
    "from tqdm.autonotebook import tqdm\n",
    "from itertools import cycle\n",
    "%load_ext autoreload\n",
    "%autoreload 2\n",
    "np.random.seed()\n",
    "tqdm.pandas()"
   ]
  },
  {
   "cell_type": "code",
   "execution_count": 0,
   "metadata": {
    "application/vnd.databricks.v1+cell": {
     "cellMetadata": {},
     "inputWidgets": {},
     "nuid": "a7442e0f-51cc-4738-85f3-97a9e8d1dfb3",
     "showTitle": false,
     "title": ""
    }
   },
   "outputs": [],
   "source": [
    "os.makedirs(\"imgs/chapter_2\", exist_ok=True)"
   ]
  },
  {
   "cell_type": "markdown",
   "metadata": {
    "application/vnd.databricks.v1+cell": {
     "cellMetadata": {},
     "inputWidgets": {},
     "nuid": "6a8b9d9a-3130-4480-b3a3-d3205407827a",
     "showTitle": false,
     "title": ""
    },
    "heading_collapsed": "true",
    "tags": []
   },
   "source": [
    "### Pandas Datetime Operations, Indexing, and Slicing – A refresher\n",
    "\n",
    "Before we start wrangling our data, let's quickly look at a few pandas concepts which will be useful. And for that let's pick an easy, well formatted stock exchange price dataset from UCI ML Repo."
   ]
  },
  {
   "cell_type": "code",
   "execution_count": 0,
   "metadata": {
    "application/vnd.databricks.v1+cell": {
     "cellMetadata": {},
     "inputWidgets": {},
     "nuid": "303ff855-7de7-42ba-b014-484d0629e977",
     "showTitle": false,
     "title": ""
    },
    "tags": []
   },
   "outputs": [],
   "source": [
    "df = pd.read_excel(\"https://archive.ics.uci.edu/ml/machine-learning-databases/00247/data_akbilgic.xlsx\", skiprows=1)\n",
    "\n",
    "df.head()"
   ]
  },
  {
   "cell_type": "markdown",
   "metadata": {
    "application/vnd.databricks.v1+cell": {
     "cellMetadata": {},
     "inputWidgets": {},
     "nuid": "f3d3dc99-4e35-43fe-a368-18cd3671c40e",
     "showTitle": false,
     "title": ""
    },
    "tags": []
   },
   "source": [
    "#### Converting date columns to pd.Timestamp/DatetimeIndex\n",
    "First, we need to convert the date columns in `str` to `pd.Timestamp` and we can use [`pd.to_datetime`](https://pandas.pydata.org/pandas-docs/stable/reference/api/pandas.to_datetime.html) to accomplish that."
   ]
  },
  {
   "cell_type": "code",
   "execution_count": 0,
   "metadata": {
    "application/vnd.databricks.v1+cell": {
     "cellMetadata": {},
     "inputWidgets": {},
     "nuid": "8daa04fc-e0fa-415d-ae46-057fc4a1a910",
     "showTitle": false,
     "title": ""
    }
   },
   "outputs": [],
   "source": [
    "pd.to_datetime(\"13-4-1987\").strftime(\"%d, %B %Y\")"
   ]
  },
  {
   "cell_type": "markdown",
   "metadata": {
    "application/vnd.databricks.v1+cell": {
     "cellMetadata": {},
     "inputWidgets": {},
     "nuid": "29bf7038-ab55-4cad-9e3d-0cac3e9b9a6f",
     "showTitle": false,
     "title": ""
    }
   },
   "source": [
    "Now let's look at a case where the automatic parsing fails. The date is 4th January, 1987."
   ]
  },
  {
   "cell_type": "code",
   "execution_count": 0,
   "metadata": {
    "application/vnd.databricks.v1+cell": {
     "cellMetadata": {},
     "inputWidgets": {},
     "nuid": "9c2fac1d-222b-4e6e-86f5-e861f82ca5c5",
     "showTitle": false,
     "title": ""
    }
   },
   "outputs": [],
   "source": [
    "pd.to_datetime(\"4-1-1987\").strftime(\"%d, %B %Y\")"
   ]
  },
  {
   "cell_type": "markdown",
   "metadata": {
    "application/vnd.databricks.v1+cell": {
     "cellMetadata": {},
     "inputWidgets": {},
     "nuid": "2f18b059-5c6a-445f-a154-83f7016b209d",
     "showTitle": false,
     "title": ""
    }
   },
   "source": [
    "Now, anyone can make that mistake because we are not telling the computer whether month comes first or day comes first and pandas assumes month coming first. Let's rectify that."
   ]
  },
  {
   "cell_type": "code",
   "execution_count": 0,
   "metadata": {
    "application/vnd.databricks.v1+cell": {
     "cellMetadata": {},
     "inputWidgets": {},
     "nuid": "a04b0978-0ae0-43ab-aa35-659bde03c2ad",
     "showTitle": false,
     "title": ""
    }
   },
   "outputs": [],
   "source": [
    "pd.to_datetime(\"4-1-1987\", dayfirst=True).strftime(\"%d, %B %Y\")"
   ]
  },
  {
   "cell_type": "markdown",
   "metadata": {
    "application/vnd.databricks.v1+cell": {
     "cellMetadata": {},
     "inputWidgets": {},
     "nuid": "a478c1ce-6eea-449d-8729-7986cc5f5aa6",
     "showTitle": false,
     "title": ""
    }
   },
   "source": [
    "Another case where the automatic date parsing fails is when the date string is in a non-standard form. There we can give a strftime formatted string to help pandas parse the dates correctly"
   ]
  },
  {
   "cell_type": "code",
   "execution_count": 0,
   "metadata": {
    "application/vnd.databricks.v1+cell": {
     "cellMetadata": {},
     "inputWidgets": {},
     "nuid": "0d41a5f1-c6a5-484f-82d9-cbb586b08a8a",
     "showTitle": false,
     "title": ""
    }
   },
   "outputs": [],
   "source": [
    "pd.to_datetime(\"4|1|1987\", format=\"%d|%m|%Y\").strftime(\"%d, %B %Y\")"
   ]
  },
  {
   "cell_type": "markdown",
   "metadata": {
    "application/vnd.databricks.v1+cell": {
     "cellMetadata": {},
     "inputWidgets": {},
     "nuid": "bcc75db0-8080-4870-af05-151b6d9645ab",
     "showTitle": false,
     "title": ""
    }
   },
   "source": [
    "**Best Practice** - Wherever possible, use the `format` or at least `dayfirst` and `yearfirst` parameters to make sure pandas is understanding the dates correctly. `format` is a standard strftime formatted string, for e.g., \"%Y-%m-%d\". For full table of codes and their meanings refer [here](https://strftime.org/)."
   ]
  },
  {
   "cell_type": "code",
   "execution_count": 0,
   "metadata": {
    "application/vnd.databricks.v1+cell": {
     "cellMetadata": {},
     "inputWidgets": {},
     "nuid": "5c0a12e2-fb04-4387-b126-02b0252b027d",
     "showTitle": false,
     "title": ""
    }
   },
   "outputs": [],
   "source": [
    "df['date'] = pd.to_datetime(df['date'], yearfirst=True)\n",
    "df['date'].dtype"
   ]
  },
  {
   "cell_type": "code",
   "execution_count": 0,
   "metadata": {
    "application/vnd.databricks.v1+cell": {
     "cellMetadata": {},
     "inputWidgets": {},
     "nuid": "8b3a1d51-7868-46e0-8ef5-8c63e3805d4b",
     "showTitle": false,
     "title": ""
    }
   },
   "outputs": [],
   "source": [
    "df.date.min(),df.date.max()"
   ]
  },
  {
   "cell_type": "markdown",
   "metadata": {
    "application/vnd.databricks.v1+cell": {
     "cellMetadata": {},
     "inputWidgets": {},
     "nuid": "7df02303-66a9-48d6-9e61-48fc8153d9ad",
     "showTitle": false,
     "title": ""
    },
    "tags": []
   },
   "source": [
    "#### dt accessor and datetime properties"
   ]
  },
  {
   "cell_type": "code",
   "execution_count": 0,
   "metadata": {
    "application/vnd.databricks.v1+cell": {
     "cellMetadata": {},
     "inputWidgets": {},
     "nuid": "d45618e4-f7be-40c5-b54f-69c6772869d1",
     "showTitle": false,
     "title": ""
    }
   },
   "outputs": [],
   "source": [
    "print(f\"\"\"\n",
    "Date: {df.date.iloc[0]}\n",
    "Day of year: {df.date.dt.day_of_year.iloc[0]}\n",
    "Day of week: {df.date.dt.dayofweek.iloc[0]}\n",
    "Week of Year: {df.date.dt.weekofyear.iloc[0]}\n",
    "Month: {df.date.dt.month.iloc[0]}\n",
    "Month Name: {df.date.dt.month_name().iloc[0]}\n",
    "Quarter: {df.date.dt.quarter.iloc[0]}\n",
    "Year: {df.date.dt.year.iloc[0]}\n",
    "ISO Week: {df.date.dt.isocalendar().week.iloc[0]}\n",
    "\"\"\")"
   ]
  },
  {
   "cell_type": "markdown",
   "metadata": {
    "application/vnd.databricks.v1+cell": {
     "cellMetadata": {},
     "inputWidgets": {},
     "nuid": "2f3c5ea1-50ac-417a-b75e-de6d227912d6",
     "showTitle": false,
     "title": ""
    },
    "tags": []
   },
   "source": [
    "#### Slicing and Indexing\n",
    "\n",
    "If you set the date column as the index of the dataframe, all kinds of helpful slicing and indexing is possible."
   ]
  },
  {
   "cell_type": "code",
   "execution_count": 0,
   "metadata": {
    "application/vnd.databricks.v1+cell": {
     "cellMetadata": {},
     "inputWidgets": {},
     "nuid": "f9f48ed3-c067-4106-818d-468a822cfb57",
     "showTitle": false,
     "title": ""
    }
   },
   "outputs": [],
   "source": [
    "df.set_index(\"date\", inplace=True)\n",
    "\n",
    "# Select all data after 2010-01-04(including)\n",
    "df[\"2010-01-04\":]\n",
    "# Select all data between 2010-01-04 and 2010-02-06(not including)\n",
    "df[\"2010-01-04\": \"2010-02-06\"]\n",
    "# Select data 2010 and before\n",
    "df[: \"2010\"]\n",
    "# Select data between 2010-01 and 2010-06(both including)\n",
    "df[\"2010-01\": \"2010-06\"]"
   ]
  },
  {
   "cell_type": "markdown",
   "metadata": {
    "application/vnd.databricks.v1+cell": {
     "cellMetadata": {},
     "inputWidgets": {},
     "nuid": "274ad9b5-b83f-4c08-b7a8-36f8be9acbd6",
     "showTitle": false,
     "title": ""
    },
    "tags": []
   },
   "source": [
    "#### Sequences and Offsets of Dates\n",
    "\n",
    "In addition to the semantic information and intelligent indexing and slicing, pandas also has tools to create date sequences and even manipulate date sequences."
   ]
  },
  {
   "cell_type": "code",
   "execution_count": 0,
   "metadata": {
    "application/vnd.databricks.v1+cell": {
     "cellMetadata": {},
     "inputWidgets": {},
     "nuid": "7b228739-a852-4f9f-92e2-7c1debee6e5a",
     "showTitle": false,
     "title": ""
    }
   },
   "outputs": [],
   "source": [
    "# Specifying start and end dates with frequency\n",
    "pd.date_range(start=\"2018-01-20\", end=\"2018-01-23\", freq=\"D\").astype(str).tolist()"
   ]
  },
  {
   "cell_type": "code",
   "execution_count": 0,
   "metadata": {
    "application/vnd.databricks.v1+cell": {
     "cellMetadata": {},
     "inputWidgets": {},
     "nuid": "cfc499ca-59bc-496b-b51e-f37a57c88075",
     "showTitle": false,
     "title": ""
    }
   },
   "outputs": [],
   "source": [
    "# Specifying start and number of periods to generate in the given frequency\n",
    "pd.date_range(start=\"2018-01-20\", periods=4, freq=\"D\").astype(str).tolist()"
   ]
  },
  {
   "cell_type": "code",
   "execution_count": 0,
   "metadata": {
    "application/vnd.databricks.v1+cell": {
     "cellMetadata": {},
     "inputWidgets": {},
     "nuid": "edaa036c-a4a9-49a0-aa79-65ee4267e797",
     "showTitle": false,
     "title": ""
    }
   },
   "outputs": [],
   "source": [
    "# Generating a date sequence with every 2 days\n",
    "pd.date_range(start=\"2018-01-20\", periods=4, freq=\"2D\").astype(str).tolist()"
   ]
  },
  {
   "cell_type": "code",
   "execution_count": 0,
   "metadata": {
    "application/vnd.databricks.v1+cell": {
     "cellMetadata": {},
     "inputWidgets": {},
     "nuid": "e60ecbb5-26d6-4b4d-b487-ed86a686022d",
     "showTitle": false,
     "title": ""
    }
   },
   "outputs": [],
   "source": [
    "# Generating a date sequence every month. By default it starts with Month end\n",
    "pd.date_range(start=\"2018-01-20\", periods=4, freq=\"M\").astype(str).tolist()"
   ]
  },
  {
   "cell_type": "code",
   "execution_count": 0,
   "metadata": {
    "application/vnd.databricks.v1+cell": {
     "cellMetadata": {},
     "inputWidgets": {},
     "nuid": "a3da99a2-266c-4f54-bd0c-3907a73d77a9",
     "showTitle": false,
     "title": ""
    }
   },
   "outputs": [],
   "source": [
    "# Generating a date sequence every month, but month start\n",
    "pd.date_range(start=\"2018-01-20\", periods=4, freq=\"MS\").astype(str).tolist()"
   ]
  },
  {
   "cell_type": "markdown",
   "metadata": {
    "application/vnd.databricks.v1+cell": {
     "cellMetadata": {},
     "inputWidgets": {},
     "nuid": "c4214fe4-09ab-473e-9b14-189328446308",
     "showTitle": false,
     "title": ""
    }
   },
   "source": [
    "We can also add or subtract days/months/etc. to dates using TimeDelta"
   ]
  },
  {
   "cell_type": "code",
   "execution_count": 0,
   "metadata": {
    "application/vnd.databricks.v1+cell": {
     "cellMetadata": {},
     "inputWidgets": {},
     "nuid": "1ba6c648-1b4d-4b48-865c-e9f98822c596",
     "showTitle": false,
     "title": ""
    }
   },
   "outputs": [],
   "source": [
    "# Add four days to the date range\n",
    "(pd.date_range(start=\"2018-01-20\", end=\"2018-01-23\", freq=\"D\") + pd.Timedelta(4, unit=\"D\")).astype(str).tolist()"
   ]
  },
  {
   "cell_type": "code",
   "execution_count": 0,
   "metadata": {
    "application/vnd.databricks.v1+cell": {
     "cellMetadata": {},
     "inputWidgets": {},
     "nuid": "cda54ff8-e5a8-464c-83e7-ae95db3dab95",
     "showTitle": false,
     "title": ""
    }
   },
   "outputs": [],
   "source": [
    "# Add four weeks to the date range\n",
    "(pd.date_range(start=\"2018-01-20\", end=\"2018-01-23\", freq=\"D\") + pd.Timedelta(4, unit=\"W\")).astype(str).tolist()"
   ]
  },
  {
   "cell_type": "markdown",
   "metadata": {
    "application/vnd.databricks.v1+cell": {
     "cellMetadata": {},
     "inputWidgets": {},
     "nuid": "085f1f37-2116-425c-9470-84ef6d46d156",
     "showTitle": false,
     "title": ""
    },
    "tags": []
   },
   "source": [
    "#### Resampling, Shifting, Rolling Window, and Expanding Window Operations\n",
    "\n",
    "**Resampling**   \n",
    "Resampling is a powerful operation which let's you aggregate and disaggregate along the temporal dimension."
   ]
  },
  {
   "cell_type": "code",
   "execution_count": 0,
   "metadata": {
    "application/vnd.databricks.v1+cell": {
     "cellMetadata": {},
     "inputWidgets": {},
     "nuid": "4ac4cb83-f313-47e9-a87a-d0409ec8daf9",
     "showTitle": false,
     "title": ""
    }
   },
   "outputs": [],
   "source": [
    "# Resampling at Month Start and taking the mean\n",
    "m_df = df[['ISE']].resample(\"MS\").mean()\n",
    "display(m_df.head())\n",
    "# Resampling at Week(starting Monday) and taking the mean\n",
    "w_df = df[['ISE']].resample(\"W-MON\").mean()\n",
    "display(w_df.head())"
   ]
  },
  {
   "cell_type": "code",
   "execution_count": 0,
   "metadata": {
    "application/vnd.databricks.v1+cell": {
     "cellMetadata": {},
     "inputWidgets": {},
     "nuid": "5890c460-bfc1-4543-b874-c96c8bc56435",
     "showTitle": false,
     "title": ""
    },
    "tags": []
   },
   "outputs": [],
   "source": [
    "import plotly.graph_objects as go\n",
    "\n",
    "fig = go.Figure()\n",
    "\n",
    "fig.add_trace(go.Scatter(\n",
    "    x=df.index,\n",
    "    y=df.ISE,\n",
    "    opacity=0.4,\n",
    "    name=\"ISE\",\n",
    "    line={\"dash\": \"dot\"}\n",
    "))\n",
    "\n",
    "fig.add_trace(go.Scatter(\n",
    "    x=m_df.index,\n",
    "    y=m_df['ISE'],\n",
    "    opacity=1.0,\n",
    "    name=\"ISE Monthly\",\n",
    "#     line={\"dash\": \"dashdot\"}\n",
    "))\n",
    "fig.add_trace(go.Scatter(\n",
    "    x=w_df.index,\n",
    "    y=w_df['ISE'],\n",
    "    opacity=1,\n",
    "    name=\"ISE Weekly\",\n",
    "    line={\"dash\": \"dash\"}\n",
    "))\n",
    "fig.show()\n",
    "fig.write_image(\"imgs/chapter_2/resampling.png\", width=1600, height=600)"
   ]
  },
  {
   "cell_type": "markdown",
   "metadata": {
    "application/vnd.databricks.v1+cell": {
     "cellMetadata": {},
     "inputWidgets": {},
     "nuid": "fb987730-5111-4940-952c-ca6b3ef0528d",
     "showTitle": false,
     "title": ""
    }
   },
   "source": [
    "**Shift**   \n",
    "Shifting a series along the temporal dimension is another valuable operation"
   ]
  },
  {
   "cell_type": "code",
   "execution_count": 0,
   "metadata": {
    "application/vnd.databricks.v1+cell": {
     "cellMetadata": {},
     "inputWidgets": {},
     "nuid": "dd25060f-03fd-4036-9d24-de9e58f686b5",
     "showTitle": false,
     "title": ""
    }
   },
   "outputs": [],
   "source": [
    "# fig.update_layout(\n",
    "#     yaxis=dict(tickfont=dict(size=15)),\n",
    "#     xaxis=dict(tickfont=dict(size=15)),\n",
    "#     legend=dict(font=dict(size=15)),\n",
    "# )\n",
    "# fig.show()"
   ]
  },
  {
   "cell_type": "code",
   "execution_count": 0,
   "metadata": {
    "application/vnd.databricks.v1+cell": {
     "cellMetadata": {},
     "inputWidgets": {},
     "nuid": "225b1430-a868-474c-816a-d11beceb7569",
     "showTitle": false,
     "title": ""
    }
   },
   "outputs": [],
   "source": [
    "plot_df = df.loc[:, ['ISE']]\n",
    "# Shift forward by one day\n",
    "plot_df['ISE_shift_1'] = df[[\"ISE\"]].shift(1)\n",
    "# Shift backward by one day\n",
    "plot_df['ISE_shift_-1'] = df[[\"ISE\"]].shift(-1)\n",
    "\n",
    "plot_df = plot_df.dropna().iloc[20:40].reset_index()\n",
    "plot_df = pd.melt(plot_df, id_vars=\"date\")\n",
    "fig = px.line(plot_df, x=\"date\", y=\"value\", color=\"variable\", line_dash=\"variable\", template=\"plotly_white\")\n",
    "fig.write_image(\"imgs/chapter_2/shift.png\", width=1600, height=600)\n",
    "# fig.update_layout(\n",
    "#     yaxis=dict(tickfont=dict(size=15)),\n",
    "#     xaxis=dict(tickfont=dict(size=15)),\n",
    "#     legend=dict(font=dict(size=15)),\n",
    "# )\n",
    "fig.show()"
   ]
  },
  {
   "cell_type": "markdown",
   "metadata": {
    "application/vnd.databricks.v1+cell": {
     "cellMetadata": {},
     "inputWidgets": {},
     "nuid": "8067ce2f-8a19-4031-ae9f-458371a161e9",
     "showTitle": false,
     "title": ""
    }
   },
   "source": [
    "**Rolling and Expanding Window**   \n",
    "\n",
    "There are strong use cases to calculate some statistics on a rolling or expanding window."
   ]
  },
  {
   "cell_type": "code",
   "execution_count": 0,
   "metadata": {
    "application/vnd.databricks.v1+cell": {
     "cellMetadata": {},
     "inputWidgets": {},
     "nuid": "693fd6bd-9e56-45f8-9e6a-c23046d1d922",
     "showTitle": false,
     "title": ""
    }
   },
   "outputs": [],
   "source": [
    "plot_df = df.loc[:, ['ISE']]\n",
    "# Moving Average of 5 days\n",
    "plot_df[\"ISE_rolling_5_mean\"] = df[['ISE']].rolling(window=5).mean()\n",
    "\n",
    "plot_df = plot_df.dropna().iloc[20:50].reset_index()\n",
    "plot_df = pd.melt(plot_df, id_vars=\"date\")\n",
    "fig = px.line(plot_df, x=\"date\", y=\"value\", line_dash=\"variable\", template=\"plotly_white\")\n",
    "# fig.update_layout(\n",
    "#     yaxis=dict(tickfont=dict(size=15)),\n",
    "#     xaxis=dict(tickfont=dict(size=15)),\n",
    "#     legend=dict(font=dict(size=15)),\n",
    "# )\n",
    "fig.write_image(\"imgs/chapter_2/rolling_1.png\", width=1600, height=600)\n",
    "fig.show()"
   ]
  },
  {
   "cell_type": "code",
   "execution_count": 0,
   "metadata": {
    "application/vnd.databricks.v1+cell": {
     "cellMetadata": {},
     "inputWidgets": {},
     "nuid": "3dd14216-de21-47ba-8b5a-cbbdead2ccc0",
     "showTitle": false,
     "title": ""
    }
   },
   "outputs": [],
   "source": [
    "plot_df = df.loc[:, ['ISE']]\n",
    "# Moving Average of 30 days\n",
    "plot_df[\"ISE_rolling_30_mean\"] = df[['ISE']].rolling(window=120).mean()\n",
    "# Expanding Average\n",
    "plot_df[\"ISE_expanding_mean\"] = df[['ISE']].expanding().mean()\n",
    "plot_df.drop(columns='ISE', inplace=True)\n",
    "plot_df = plot_df.dropna().reset_index()\n",
    "plot_df = pd.melt(plot_df, id_vars=\"date\")\n",
    "fig = px.line(plot_df, x=\"date\", y=\"value\", line_dash=\"variable\", template=\"plotly_white\")\n",
    "# fig.update_layout(\n",
    "#     yaxis=dict(tickfont=dict(size=15)),\n",
    "#     xaxis=dict(tickfont=dict(size=15)),\n",
    "#     legend=dict(font=dict(size=15)),\n",
    "# )\n",
    "fig.write_image(\"imgs/chapter_2/rolling_2.png\", width=1600, height=600)\n",
    "fig.show()"
   ]
  },
  {
   "cell_type": "code",
   "execution_count": 0,
   "metadata": {
    "application/vnd.databricks.v1+cell": {
     "cellMetadata": {},
     "inputWidgets": {},
     "nuid": "6675fcae-393f-49ca-b9f7-e025778def4c",
     "showTitle": false,
     "title": ""
    }
   },
   "outputs": [],
   "source": [
    "del plot_df, df, w_df"
   ]
  },
  {
   "cell_type": "markdown",
   "metadata": {
    "application/vnd.databricks.v1+cell": {
     "cellMetadata": {},
     "inputWidgets": {},
     "nuid": "5905c28a-426f-465c-b3a3-e584fe4c779a",
     "showTitle": false,
     "title": ""
    }
   },
   "source": [
    "### Missing Value Treatment"
   ]
  },
  {
   "cell_type": "code",
   "execution_count": 0,
   "metadata": {
    "application/vnd.databricks.v1+cell": {
     "cellMetadata": {},
     "inputWidgets": {},
     "nuid": "5601b006-3d92-4b4c-bbbe-217dad55623f",
     "showTitle": false,
     "title": ""
    }
   },
   "outputs": [],
   "source": [
    "def format_plot(fig, legends, font_size=15, title_font_size=20):\n",
    "    names = cycle(legends)\n",
    "    fig.for_each_trace(lambda t: t.update(name=next(names)))\n",
    "    fig.update_layout(\n",
    "        autosize=False,\n",
    "        width=900,\n",
    "        height=500,\n",
    "        title={\"x\": 0.5, \"xanchor\": \"center\", \"yanchor\": \"top\"},\n",
    "        titlefont={\"size\": title_font_size},\n",
    "        legend_title=None,\n",
    "        legend=dict(\n",
    "            font=dict(size=font_size),\n",
    "            orientation=\"h\",\n",
    "            yanchor=\"bottom\",\n",
    "            y=0.98,\n",
    "            xanchor=\"right\",\n",
    "            x=1,\n",
    "        ),\n",
    "        yaxis=dict(\n",
    "            title_text=\"Value\",\n",
    "            titlefont=dict(size=font_size),\n",
    "            tickfont=dict(size=font_size),\n",
    "        ),\n",
    "        xaxis=dict(\n",
    "            title_text=\"Day\",\n",
    "            titlefont=dict(size=font_size),\n",
    "            tickfont=dict(size=font_size),\n",
    "        ),\n",
    "    )\n",
    "    return fig"
   ]
  },
  {
   "cell_type": "code",
   "execution_count": 0,
   "metadata": {
    "application/vnd.databricks.v1+cell": {
     "cellMetadata": {},
     "inputWidgets": {},
     "nuid": "6900565d-a3dc-4f3b-86ca-a6b4983bada0",
     "showTitle": false,
     "title": ""
    }
   },
   "outputs": [],
   "source": [
    "df = pd.read_csv(\"https://www.data.act.gov.au/resource/94a5-zqnn.csv\", sep=\",\")\n",
    "#Selecting one location and pm2.5\n",
    "df = df.loc[df.name==\"Monash\", ['datetime', 'pm2_5_1_hr']]\n",
    "df.datetime = pd.to_datetime(df.datetime)\n",
    "df.sort_values(\"datetime\", inplace=True)\n",
    "df.set_index(\"datetime\", inplace=True)\n",
    "# introducing a missing value by nulling out the values\n",
    "df.loc[\"2022-07-07 7:00\":\"2022-07-07 09:00\", \"pm2_5_1_hr\"] = np.nan\n",
    "df.head()"
   ]
  },
  {
   "cell_type": "markdown",
   "metadata": {
    "application/vnd.databricks.v1+cell": {
     "cellMetadata": {},
     "inputWidgets": {},
     "nuid": "6d850f81-d95d-4cd7-9282-6a029929e091",
     "showTitle": false,
     "title": ""
    }
   },
   "source": [
    "**We have introduced a few missing values between \"2022-07-07 00:00\" and \"2021-07-07 12:00\" in the PM2.5 column**"
   ]
  },
  {
   "cell_type": "code",
   "execution_count": 0,
   "metadata": {
    "application/vnd.databricks.v1+cell": {
     "cellMetadata": {},
     "inputWidgets": {},
     "nuid": "16298758-3916-4535-ba0e-f05bda3af095",
     "showTitle": false,
     "title": ""
    }
   },
   "outputs": [],
   "source": [
    "df = df.loc[\"2022-07-07\":\"2022-07-07 12:00\", \"pm2_5_1_hr\"].to_frame()\n",
    "fig = px.line(df, x=df.index, y=\"pm2_5_1_hr\", title=\"Missing Values in PM2.5\")\n",
    "fig = format_plot(fig, [\"Original\"])\n",
    "fig.write_image(\"imgs/chapter_2/missing_values.png\")\n",
    "fig.show()"
   ]
  },
  {
   "cell_type": "markdown",
   "metadata": {
    "application/vnd.databricks.v1+cell": {
     "cellMetadata": {},
     "inputWidgets": {},
     "nuid": "bf3c256e-d403-48d6-82b7-ff6ac5d124d7",
     "showTitle": false,
     "title": ""
    }
   },
   "source": [
    "## Last Observation Carried Forward (Forward Fill), Next Observation Carried Backward (Backward Fill) and Mean Value Fill"
   ]
  },
  {
   "cell_type": "code",
   "execution_count": 0,
   "metadata": {
    "application/vnd.databricks.v1+cell": {
     "cellMetadata": {},
     "inputWidgets": {},
     "nuid": "d6b93c5b-22f9-4c42-9e77-b0989a251fd3",
     "showTitle": false,
     "title": ""
    }
   },
   "outputs": [],
   "source": [
    "_df = df.copy()\n",
    "#Forward Fill\n",
    "_df[\"ffill\"] = _df['pm2_5_1_hr'].ffill()\n",
    "# Backward Fill\n",
    "_df[\"bfill\"] = _df['pm2_5_1_hr'].bfill()\n",
    "# Mean Value Fil\n",
    "_df[\"mean_value\"] = _df['pm2_5_1_hr'].fillna(df['pm2_5_1_hr'].mean())"
   ]
  },
  {
   "cell_type": "code",
   "execution_count": 0,
   "metadata": {
    "application/vnd.databricks.v1+cell": {
     "cellMetadata": {},
     "inputWidgets": {},
     "nuid": "6d5a8a20-c689-42bb-bd56-2d7e0af0524b",
     "showTitle": false,
     "title": ""
    },
    "tags": []
   },
   "outputs": [],
   "source": [
    "#Plotting\n",
    "plot_df = pd.melt(_df.reset_index(), id_vars=\"datetime\", var_name=\"series\")\n",
    "fig = px.line(plot_df, x=\"datetime\", y=[\"value\"], line_dash=\"series\", title=\"Forward, Backward, and Mean Value Fill\")\n",
    "fig = format_plot(fig, ['Original', 'Forward Fill', 'Backward Fill', \"Mean Value Fill\"])\n",
    "fig.write_image(\"imgs/chapter_2/ffill_bfill_mean_missing_values.png\")\n",
    "fig.show()"
   ]
  },
  {
   "cell_type": "markdown",
   "metadata": {
    "application/vnd.databricks.v1+cell": {
     "cellMetadata": {},
     "inputWidgets": {},
     "nuid": "32cd86c6-ea5b-406a-be03-dd988d53bc48",
     "showTitle": false,
     "title": ""
    }
   },
   "source": [
    "## Interpolation"
   ]
  },
  {
   "cell_type": "code",
   "execution_count": 0,
   "metadata": {
    "application/vnd.databricks.v1+cell": {
     "cellMetadata": {},
     "inputWidgets": {},
     "nuid": "831b893d-8a33-4c1d-ad47-430557833920",
     "showTitle": false,
     "title": ""
    }
   },
   "outputs": [],
   "source": [
    "_df = df.copy()\n",
    "_df[\"linear_interpolation\"] = _df['pm2_5_1_hr'].interpolate(method=\"linear\")\n",
    "_df[\"nearest_interpolation\"] = _df['pm2_5_1_hr'].interpolate(method=\"nearest\")"
   ]
  },
  {
   "cell_type": "code",
   "execution_count": 0,
   "metadata": {
    "application/vnd.databricks.v1+cell": {
     "cellMetadata": {},
     "inputWidgets": {},
     "nuid": "23ef8cb7-cd15-4188-9325-459b4fc0aca4",
     "showTitle": false,
     "title": ""
    }
   },
   "outputs": [],
   "source": [
    "#Plotting\n",
    "plot_df = pd.melt(_df.reset_index(), id_vars=\"datetime\", var_name=\"series\")\n",
    "fig = px.line(plot_df, x=\"datetime\", y=[\"value\"], line_dash=\"series\", title=\"Linear and Nearest Interpolation\")\n",
    "fig = format_plot(fig, ['Original', \"Linear Interpolation\", \"Nearest Interpolation\"])\n",
    "fig.write_image(\"imgs/chapter_2/linear_nearest_missing_values.png\")\n",
    "fig.show()"
   ]
  },
  {
   "cell_type": "code",
   "execution_count": 0,
   "metadata": {
    "application/vnd.databricks.v1+cell": {
     "cellMetadata": {},
     "inputWidgets": {},
     "nuid": "63d2f15d-05a9-4d9b-a117-44ab64d32d56",
     "showTitle": false,
     "title": ""
    }
   },
   "outputs": [],
   "source": [
    "_df = df.copy()\n",
    "_df[\"spline_interpolation\"] = _df['pm2_5_1_hr'].interpolate(method=\"spline\", order=2)\n",
    "_df[\"polynomial_interpolation\"] = _df['pm2_5_1_hr'].interpolate(method=\"polynomial\", order=5)"
   ]
  },
  {
   "cell_type": "code",
   "execution_count": 0,
   "metadata": {
    "application/vnd.databricks.v1+cell": {
     "cellMetadata": {},
     "inputWidgets": {},
     "nuid": "c24fe957-959f-4686-aa2e-ec494deadec5",
     "showTitle": false,
     "title": ""
    }
   },
   "outputs": [],
   "source": [
    "#Plotting\n",
    "plot_df = pd.melt(_df.reset_index(), id_vars=\"datetime\", var_name=\"series\")\n",
    "fig = px.line(plot_df, x=\"datetime\", y=[\"value\"], line_dash=\"series\", title=\"Spline and Polynomial Interpolation\")\n",
    "fig = format_plot(fig, ['Original', \"2nd Order Spline Interpolation\", \"5th Order Polynomial Interpolation\"])\n",
    "fig.write_image(\"imgs/chapter_2/spline_polynomial_missing_values.png\")\n",
    "fig.show()"
   ]
  }
 ],
 "metadata": {
  "application/vnd.databricks.v1+notebook": {
   "dashboards": [],
   "language": "python",
   "notebookMetadata": {},
   "notebookName": "01 - Pandas Refresher & Missing Values Treatment",
   "widgets": {}
  },
  "kernelspec": {
   "display_name": "Python 3 (ipykernel)",
   "language": "python",
   "name": "python3"
  },
  "language_info": {
   "codemirror_mode": {
    "name": "ipython",
    "version": 3
   },
   "file_extension": ".py",
   "mimetype": "text/x-python",
   "name": "python",
   "nbconvert_exporter": "python",
   "pygments_lexer": "ipython3",
   "version": "3.9.0"
  }
 },
 "nbformat": 4,
 "nbformat_minor": 0
}
