{
 "cells": [
  {
   "cell_type": "code",
   "execution_count": 0,
   "metadata": {
    "application/vnd.databricks.v1+cell": {
     "cellMetadata": {},
     "inputWidgets": {},
     "nuid": "90188e76-f1ce-4419-9f00-f090149d3a0a",
     "showTitle": false,
     "title": ""
    }
   },
   "outputs": [],
   "source": [
    "%cd ../.."
   ]
  },
  {
   "cell_type": "code",
   "execution_count": 0,
   "metadata": {
    "application/vnd.databricks.v1+cell": {
     "cellMetadata": {},
     "inputWidgets": {},
     "nuid": "50c8c80e-f5f4-4c05-a8a7-7cd18f39cfb8",
     "showTitle": false,
     "title": ""
    }
   },
   "outputs": [],
   "source": [
    "import numpy as np\n",
    "import matplotlib.pyplot as plt\n",
    "import plotly.express as px\n",
    "import os\n",
    "import plotly.io as pio\n",
    "pio.templates.default = \"plotly_white\"\n",
    "import pandas as pd\n",
    "from pathlib import Path\n",
    "from tqdm.autonotebook import tqdm\n",
    "import missingno as msno\n",
    "from itertools import cycle\n",
    "from sklearn.metrics import mean_absolute_error\n",
    "from IPython.display import display, HTML\n",
    "# %load_ext autoreload\n",
    "# %autoreload 2\n",
    "np.random.seed()\n",
    "tqdm.pandas()"
   ]
  },
  {
   "cell_type": "code",
   "execution_count": 0,
   "metadata": {
    "application/vnd.databricks.v1+cell": {
     "cellMetadata": {},
     "inputWidgets": {},
     "nuid": "dc3415a2-97b4-4c4a-9e73-f4bf17465eb6",
     "showTitle": false,
     "title": ""
    }
   },
   "outputs": [],
   "source": [
    "os.makedirs(\"imgs/chapter_2\", exist_ok=True)\n",
    "preprocessed = Path(\"data/london_smart_meters/preprocessed\")"
   ]
  },
  {
   "cell_type": "code",
   "execution_count": 0,
   "metadata": {
    "application/vnd.databricks.v1+cell": {
     "cellMetadata": {},
     "inputWidgets": {},
     "nuid": "0412d9f9-b79a-4cc8-b39f-6262ad7f5ef0",
     "showTitle": false,
     "title": ""
    }
   },
   "outputs": [],
   "source": [
    "assert preprocessed.is_dir(), \"You have to run 02 - Preprocessing London Smart Meter Dataset.ipynb in Chapter02 before running this notebook\""
   ]
  },
  {
   "cell_type": "code",
   "execution_count": 0,
   "metadata": {
    "application/vnd.databricks.v1+cell": {
     "cellMetadata": {},
     "inputWidgets": {},
     "nuid": "25c900e4-3149-4d11-9f79-190714c34c80",
     "showTitle": false,
     "title": ""
    }
   },
   "outputs": [],
   "source": [
    "def format_plot(fig, legends = None, font_size=15, title_font_size=20):\n",
    "    if legends:\n",
    "        names = cycle(legends)\n",
    "        fig.for_each_trace(lambda t:  t.update(name = next(names)))\n",
    "    fig.update_layout(\n",
    "            autosize=False,\n",
    "            width=900,\n",
    "            height=500,\n",
    "            title={\n",
    "            'x':0.5,\n",
    "            'xanchor': 'center',\n",
    "            'yanchor': 'top'},\n",
    "            titlefont={\n",
    "                \"size\": title_font_size\n",
    "            },\n",
    "            legend_title = None,\n",
    "            legend=dict(\n",
    "                font=dict(size=font_size),\n",
    "                orientation=\"h\",\n",
    "                yanchor=\"bottom\",\n",
    "                y=0.98,\n",
    "                xanchor=\"right\",\n",
    "                x=1,\n",
    "            ),\n",
    "            yaxis=dict(\n",
    "                title_text=\"Value\",\n",
    "                titlefont=dict(size=font_size),\n",
    "                tickfont=dict(size=font_size),\n",
    "            ),\n",
    "            xaxis=dict(\n",
    "                title_text=\"Day\",\n",
    "                titlefont=dict(size=font_size),\n",
    "                tickfont=dict(size=font_size),\n",
    "            )\n",
    "        )\n",
    "    return fig"
   ]
  },
  {
   "cell_type": "markdown",
   "metadata": {
    "application/vnd.databricks.v1+cell": {
     "cellMetadata": {},
     "inputWidgets": {},
     "nuid": "fe87c064-85d6-4027-b434-7f5fe47eb4c5",
     "showTitle": false,
     "title": ""
    },
    "tags": []
   },
   "source": [
    "# Reading Blocks 0-7"
   ]
  },
  {
   "cell_type": "code",
   "execution_count": 0,
   "metadata": {
    "application/vnd.databricks.v1+cell": {
     "cellMetadata": {},
     "inputWidgets": {},
     "nuid": "c7b2eefb-0eb7-490e-b15f-92cff498e8c1",
     "showTitle": false,
     "title": ""
    }
   },
   "outputs": [],
   "source": [
    "from src.utils.data_utils import compact_to_expanded"
   ]
  },
  {
   "cell_type": "code",
   "execution_count": 0,
   "metadata": {
    "application/vnd.databricks.v1+cell": {
     "cellMetadata": {},
     "inputWidgets": {},
     "nuid": "0ded5abe-f1d0-40a2-b3d8-337b3f4b98ea",
     "showTitle": false,
     "title": ""
    }
   },
   "outputs": [],
   "source": [
    "try:\n",
    "    block_df = pd.read_parquet(preprocessed/\"london_smart_meters_merged_block_0-7.parquet\")\n",
    "    display(block_df.head())\n",
    "except FileNotFoundError:\n",
    "    display(HTML(\"\"\"\n",
    "    <div class=\"alert alert-block alert-warning\">\n",
    "    <b>Warning!</b> File not found. Please make sure you have run 02 - Preprocessing London Smart Meter Dataset.ipynb in Chapter02\n",
    "    </div>\n",
    "    \"\"\"))"
   ]
  },
  {
   "cell_type": "markdown",
   "metadata": {
    "application/vnd.databricks.v1+cell": {
     "cellMetadata": {},
     "inputWidgets": {},
     "nuid": "5ce0fc16-6547-4095-aa6f-ffccd9ee854c",
     "showTitle": false,
     "title": ""
    }
   },
   "source": [
    "Let's take all the consumers in one block for our exercise. Keep in mind, you can do the same with more number of blocks as long as it fits in your RAM"
   ]
  },
  {
   "cell_type": "code",
   "execution_count": 0,
   "metadata": {
    "application/vnd.databricks.v1+cell": {
     "cellMetadata": {},
     "inputWidgets": {},
     "nuid": "7c2fb5ae-531c-474b-b0c3-97b971fc2628",
     "showTitle": false,
     "title": ""
    }
   },
   "outputs": [],
   "source": [
    "#Converting to expanded form\n",
    "exp_block_df = compact_to_expanded(block_df[block_df.file==\"block_7\"], timeseries_col = 'energy_consumption',\n",
    "static_cols = [\"frequency\", \"series_length\", \"stdorToU\", \"Acorn\", \"Acorn_grouped\", \"file\"],\n",
    "time_varying_cols = ['holidays', 'visibility', 'windBearing', 'temperature', 'dewPoint',\n",
    "       'pressure', 'apparentTemperature', 'windSpeed', 'precipType', 'icon',\n",
    "       'humidity', 'summary'],\n",
    "ts_identifier = \"LCLid\")\n",
    "\n",
    "exp_block_df.head()"
   ]
  },
  {
   "cell_type": "markdown",
   "metadata": {
    "application/vnd.databricks.v1+cell": {
     "cellMetadata": {},
     "inputWidgets": {},
     "nuid": "cad0ac1d-fa2d-4d28-a6d3-03cf1d2462a3",
     "showTitle": false,
     "title": ""
    }
   },
   "source": [
    "# Missing Data and Advanced Imputation Techniques"
   ]
  },
  {
   "cell_type": "code",
   "execution_count": 0,
   "metadata": {
    "application/vnd.databricks.v1+cell": {
     "cellMetadata": {},
     "inputWidgets": {},
     "nuid": "9baed719-2e1f-4795-812c-190a471af24b",
     "showTitle": false,
     "title": ""
    }
   },
   "outputs": [],
   "source": [
    "# Pivot the data to set the index as the datetime and the different time series along the columns\n",
    "plot_df = pd.pivot_table(exp_block_df, index=\"timestamp\", columns=\"LCLid\", values=\"energy_consumption\")\n",
    "# Generate Plot. Since we have a datetime index, we can mention the frequency to decide what do we want on the X axis\n",
    "msno.matrix(plot_df, freq=\"M\", fontsize=20)\n",
    "plt.savefig('imgs/chapter_2/missing_no_full.png', bbox_inches='tight')\n",
    "plt.show()"
   ]
  },
  {
   "cell_type": "code",
   "execution_count": 0,
   "metadata": {
    "application/vnd.databricks.v1+cell": {
     "cellMetadata": {},
     "inputWidgets": {},
     "nuid": "71ff1f61-d15f-4a7f-a004-1b0f8429cfa1",
     "showTitle": false,
     "title": ""
    }
   },
   "outputs": [],
   "source": [
    "# Taking a single time series from the block\n",
    "ts_df = exp_block_df[exp_block_df.LCLid==\"MAC000193\"].set_index(\"timestamp\")"
   ]
  },
  {
   "cell_type": "markdown",
   "metadata": {
    "application/vnd.databricks.v1+cell": {
     "cellMetadata": {},
     "inputWidgets": {},
     "nuid": "66a1c325-0866-418e-88a7-48360215306c",
     "showTitle": false,
     "title": ""
    }
   },
   "source": [
    "We know that there is some missing data between 2012-09-30 and 2012-10-31. But instead of picking a window where there is an actual missing data, let's pick a window where data is present, but we artificially remove it and then look at techniques to fill it. This way, we can have some way to see how well a particular method is working."
   ]
  },
  {
   "cell_type": "code",
   "execution_count": 0,
   "metadata": {
    "application/vnd.databricks.v1+cell": {
     "cellMetadata": {},
     "inputWidgets": {},
     "nuid": "d6682154-308e-4b6c-afca-bb99e8f8115c",
     "showTitle": false,
     "title": ""
    }
   },
   "outputs": [],
   "source": [
    "msno.matrix(ts_df[\"2012-10-13\": \"2012-10-24\"], freq=\"D\", fontsize=20)\n",
    "plt.savefig('imgs/chapter_2/missing_no_mac000193.png', bbox_inches='tight')\n",
    "plt.show()"
   ]
  },
  {
   "cell_type": "markdown",
   "metadata": {
    "application/vnd.databricks.v1+cell": {
     "cellMetadata": {},
     "inputWidgets": {},
     "nuid": "28751d58-177f-4fda-b913-a5386ee44edc",
     "showTitle": false,
     "title": ""
    }
   },
   "source": [
    "We see that there are two days of information and normally would preceed to fill in the gaps using some of the techniques we will be revieweing. But just to see how effective the different techniques we are reviewing, we will artificially create a missing section and see how well we are able to impute it."
   ]
  },
  {
   "cell_type": "code",
   "execution_count": 0,
   "metadata": {
    "application/vnd.databricks.v1+cell": {
     "cellMetadata": {},
     "inputWidgets": {},
     "nuid": "50b8dbde-f3bf-4de0-903a-f4a9719e9b56",
     "showTitle": false,
     "title": ""
    }
   },
   "outputs": [],
   "source": [
    "# The dates between which we are nulling out the time series\n",
    "window = slice(\"2012-10-07\", \"2012-10-08\")\n",
    "# Creating a new column and artificially creating missing values\n",
    "ts_df['energy_consumption_missing'] = ts_df.energy_consumption\n",
    "ts_df.loc[window, \"energy_consumption_missing\"] = np.nan\n",
    "# Creating a new window with a few dats added on either side for visualization purposes\n",
    "vis_window = slice(pd.to_datetime(window.start) - pd.Timedelta(days=2), pd.to_datetime(window.stop) + pd.Timedelta(days=2))"
   ]
  },
  {
   "cell_type": "code",
   "execution_count": 0,
   "metadata": {
    "application/vnd.databricks.v1+cell": {
     "cellMetadata": {},
     "inputWidgets": {},
     "nuid": "dfd72042-3a0f-417c-a3d2-ec43c6315b9f",
     "showTitle": false,
     "title": ""
    }
   },
   "outputs": [],
   "source": [
    "fig = px.line(ts_df[vis_window], y=\"energy_consumption_missing\", title=f\"MAC000193 Energy Consumption between {vis_window.start.strftime('%Y-%m-%d')} and {vis_window.stop.strftime('%Y-%m-%d')}\")\n",
    "fig = format_plot(fig)\n",
    "fig.write_image(\"imgs/chapter_2/mac000193_missing.png\")\n",
    "fig.show()"
   ]
  },
  {
   "cell_type": "markdown",
   "metadata": {
    "application/vnd.databricks.v1+cell": {
     "cellMetadata": {},
     "inputWidgets": {},
     "nuid": "5702f44d-6161-4626-b230-e88129215ece",
     "showTitle": false,
     "title": ""
    }
   },
   "source": [
    "## Missing Data Imputation"
   ]
  },
  {
   "cell_type": "code",
   "execution_count": 0,
   "metadata": {
    "application/vnd.databricks.v1+cell": {
     "cellMetadata": {},
     "inputWidgets": {},
     "nuid": "bf3e4add-b3c9-47d8-bc40-90b230387043",
     "showTitle": false,
     "title": ""
    }
   },
   "outputs": [],
   "source": [
    "null_mask = ts_df.energy_consumption_missing.isnull()"
   ]
  },
  {
   "cell_type": "markdown",
   "metadata": {
    "application/vnd.databricks.v1+cell": {
     "cellMetadata": {},
     "inputWidgets": {},
     "nuid": "466d2f21-b9eb-4471-819e-a1246bce1a42",
     "showTitle": false,
     "title": ""
    },
    "tags": []
   },
   "source": [
    "### Repeating Patterns"
   ]
  },
  {
   "cell_type": "markdown",
   "metadata": {
    "application/vnd.databricks.v1+cell": {
     "cellMetadata": {},
     "inputWidgets": {},
     "nuid": "5152fa0d-cfb1-4e34-9995-8da6a580bc24",
     "showTitle": false,
     "title": ""
    },
    "tags": []
   },
   "source": [
    "#### Last Day"
   ]
  },
  {
   "cell_type": "code",
   "execution_count": 0,
   "metadata": {
    "application/vnd.databricks.v1+cell": {
     "cellMetadata": {},
     "inputWidgets": {},
     "nuid": "aa10b24b-4ec4-4a71-bc93-30fa4f96cbcb",
     "showTitle": false,
     "title": ""
    }
   },
   "outputs": [],
   "source": [
    "#Shifting 48 steps to get previous day\n",
    "ts_df[\"prev_day\"] = ts_df['energy_consumption'].shift(48)\n",
    "#Using the shifted column to fill missing\n",
    "ts_df['prev_day_imputed'] =  ts_df['energy_consumption_missing']\n",
    "ts_df.loc[null_mask,\"prev_day_imputed\"] = ts_df.loc[null_mask,\"prev_day\"]\n",
    "mae = mean_absolute_error(ts_df.loc[window, \"prev_day_imputed\"], ts_df.loc[window, \"energy_consumption\"])"
   ]
  },
  {
   "cell_type": "code",
   "execution_count": 0,
   "metadata": {
    "application/vnd.databricks.v1+cell": {
     "cellMetadata": {},
     "inputWidgets": {},
     "nuid": "0f80727d-a774-4251-bc67-d0dce56def7f",
     "showTitle": false,
     "title": ""
    }
   },
   "outputs": [],
   "source": [
    "plot_df = pd.melt(ts_df.loc[window,['energy_consumption','prev_day_imputed']].reset_index(), id_vars='timestamp', var_name=\"series\")\n",
    "fig = px.line(plot_df, x=\"timestamp\", y=[\"value\"], line_dash=\"series\", title=f\"Imputing with Previous Day | MAE={mae:.3f}\")\n",
    "fig = format_plot(fig, ['Original', 'Previous Day Imputed'])\n",
    "fig.write_image(\"imgs/chapter_2/previous_day_imputation.png\")\n",
    "fig"
   ]
  },
  {
   "cell_type": "markdown",
   "metadata": {
    "application/vnd.databricks.v1+cell": {
     "cellMetadata": {},
     "inputWidgets": {},
     "nuid": "0baa611b-6ff2-41be-b0af-21f2d7a21b03",
     "showTitle": false,
     "title": ""
    }
   },
   "source": [
    "#### Hourly Profile"
   ]
  },
  {
   "cell_type": "code",
   "execution_count": 0,
   "metadata": {
    "application/vnd.databricks.v1+cell": {
     "cellMetadata": {},
     "inputWidgets": {},
     "nuid": "15eda97f-2bb6-41ef-9b1e-b0cd10d3264c",
     "showTitle": false,
     "title": ""
    }
   },
   "outputs": [],
   "source": [
    "#Create a column with the Hour from timestamp\n",
    "ts_df[\"hour\"] = ts_df.index.hour\n",
    "#Calculate hourly average consumption\n",
    "hourly_profile = ts_df.groupby(['hour'])['energy_consumption'].mean().reset_index()\n",
    "hourly_profile.rename(columns={\"energy_consumption\": \"hourly_profile\"}, inplace=True)\n",
    "#Saving the index because it gets lost in merge\n",
    "idx = ts_df.index\n",
    "#Merge the hourly profile dataframe to ts dataframe\n",
    "ts_df = ts_df.merge(hourly_profile, on=['hour'], how='left', validate=\"many_to_one\")\n",
    "ts_df.index = idx\n",
    "\n",
    "#Using the hourly profile to fill missing\n",
    "ts_df['hourly_profile_imputed'] = ts_df['energy_consumption_missing']\n",
    "ts_df.loc[null_mask,\"hourly_profile_imputed\"] = ts_df.loc[null_mask,\"hourly_profile\"]\n",
    "mae = mean_absolute_error(ts_df.loc[window, \"hourly_profile_imputed\"], ts_df.loc[window, \"energy_consumption\"])"
   ]
  },
  {
   "cell_type": "code",
   "execution_count": 0,
   "metadata": {
    "application/vnd.databricks.v1+cell": {
     "cellMetadata": {},
     "inputWidgets": {},
     "nuid": "8f742aaa-bb3c-4a3b-bb79-bf03e6237856",
     "showTitle": false,
     "title": ""
    }
   },
   "outputs": [],
   "source": [
    "plot_df = pd.melt(ts_df.loc[window,['energy_consumption','hourly_profile_imputed']].reset_index(), id_vars='timestamp', var_name=\"series\")\n",
    "fig = px.line(plot_df, x=\"timestamp\", y=[\"value\"], line_dash=\"series\", title=f\"Imputing with Hourly Profile | MAE={mae:.3f}\")\n",
    "fig = format_plot(fig, ['Original', 'Hourly Profile Imputed'])\n",
    "fig.write_image(\"imgs/chapter_2/hourly_profile_imputation.png\")\n",
    "fig"
   ]
  },
  {
   "cell_type": "markdown",
   "metadata": {
    "application/vnd.databricks.v1+cell": {
     "cellMetadata": {},
     "inputWidgets": {},
     "nuid": "b9559c01-9c00-4436-adf8-0397ad4b0294",
     "showTitle": false,
     "title": ""
    }
   },
   "source": [
    "#### Weekday-Hourly Profile"
   ]
  },
  {
   "cell_type": "code",
   "execution_count": 0,
   "metadata": {
    "application/vnd.databricks.v1+cell": {
     "cellMetadata": {},
     "inputWidgets": {},
     "nuid": "e21ccc17-bb6a-4de6-8c9c-b2bd0d5b96d4",
     "showTitle": false,
     "title": ""
    }
   },
   "outputs": [],
   "source": [
    "#Create a column with the weekday from timestamp\n",
    "ts_df[\"weekday\"] = ts_df.index.weekday\n",
    "#Calculate weekday-hourly average consumption\n",
    "day_hourly_profile = ts_df.groupby(['weekday','hour'])['energy_consumption'].mean().reset_index()\n",
    "day_hourly_profile.rename(columns={\"energy_consumption\": \"day_hourly_profile\"}, inplace=True)\n",
    "#Saving the index because it gets lost in merge\n",
    "idx = ts_df.index\n",
    "#Merge the day-hourly profile dataframe to ts dataframe\n",
    "ts_df = ts_df.merge(day_hourly_profile, on=['weekday', 'hour'], how='left', validate=\"many_to_one\")\n",
    "ts_df.index = idx\n",
    "\n",
    "#Using the day-hourly profile to fill missing\n",
    "ts_df['day_hourly_profile_imputed'] = ts_df['energy_consumption_missing']\n",
    "ts_df.loc[null_mask,\"day_hourly_profile_imputed\"] = ts_df.loc[null_mask,\"day_hourly_profile\"]\n",
    "mae = mean_absolute_error(ts_df.loc[window, \"day_hourly_profile_imputed\"], ts_df.loc[window, \"energy_consumption\"])"
   ]
  },
  {
   "cell_type": "code",
   "execution_count": 0,
   "metadata": {
    "application/vnd.databricks.v1+cell": {
     "cellMetadata": {},
     "inputWidgets": {},
     "nuid": "a128209c-ae58-4e90-a225-8a07aa1e37ca",
     "showTitle": false,
     "title": ""
    }
   },
   "outputs": [],
   "source": [
    "plot_df = pd.melt(ts_df.loc[window,['energy_consumption','day_hourly_profile_imputed']].reset_index(), id_vars='timestamp', var_name=\"series\")\n",
    "fig = px.line(plot_df, x=\"timestamp\", y=[\"value\"], line_dash=\"series\", title=f\"Imputing with Week Day-Hourly Profile | MAE={mae:.3f}\")\n",
    "fig = format_plot(fig, ['Original', 'Week Day-Hourly Profile Imputed'])\n",
    "fig.write_image(\"imgs/chapter_2/day_hourly_profile_imputation.png\")\n",
    "fig"
   ]
  },
  {
   "cell_type": "code",
   "execution_count": 0,
   "metadata": {
    "application/vnd.databricks.v1+cell": {
     "cellMetadata": {},
     "inputWidgets": {},
     "nuid": "cda99b26-ce05-44ec-b6e6-a58f6b41e9bf",
     "showTitle": false,
     "title": ""
    }
   },
   "outputs": [],
   "source": [
    "# Hourly Profiles by week Day\n",
    "px.line(ts_df.loc[\"2012-10-15\": \"2012-10-21\",['day_hourly_profile','weekday']].reset_index(), x=\"timestamp\", y=\"day_hourly_profile\", color='weekday', title=\"Hourly Profiles by Weekday (0-Monday - 6-Sunday)\")"
   ]
  },
  {
   "cell_type": "markdown",
   "metadata": {
    "application/vnd.databricks.v1+cell": {
     "cellMetadata": {},
     "inputWidgets": {},
     "nuid": "d908ae6d-6b1f-4486-aa53-f2d756d18359",
     "showTitle": false,
     "title": ""
    }
   },
   "source": [
    "#### Seasonal Interpolation"
   ]
  },
  {
   "cell_type": "code",
   "execution_count": 0,
   "metadata": {
    "application/vnd.databricks.v1+cell": {
     "cellMetadata": {},
     "inputWidgets": {},
     "nuid": "23f13b19-5369-4662-8fdf-f7c3e1c7af46",
     "showTitle": false,
     "title": ""
    }
   },
   "outputs": [],
   "source": [
    "from src.imputation.interpolation import SeasonalInterpolation"
   ]
  },
  {
   "cell_type": "code",
   "execution_count": 0,
   "metadata": {
    "application/vnd.databricks.v1+cell": {
     "cellMetadata": {},
     "inputWidgets": {},
     "nuid": "f9fd7100-db62-4b4a-9b42-aca94beebbc4",
     "showTitle": false,
     "title": ""
    }
   },
   "outputs": [],
   "source": [
    "# Seasonal interpolation using 48*7 as the seasonal period.\n",
    "# seasonal period is the period after which you expect the pattern to repeat\n",
    "recovered_matrix_seas_interp_weekday_half_hour = SeasonalInterpolation(seasonal_period=48*7,\n",
    "                                                     decomposition_strategy=\"additive\", \n",
    "                                                     interpolation_strategy=\"spline\", \n",
    "                                                     interpolation_args={\"order\":3}, \n",
    "                                                     min_value=0).fit_transform(ts_df.energy_consumption_missing.values.reshape(-1,1))\n",
    "\n",
    "ts_df['seas_interp_weekday_half_hour_imputed'] = recovered_matrix_seas_interp_weekday_half_hour\n",
    "mae_weekday_half_hour = mean_absolute_error(ts_df.loc[window, \"seas_interp_weekday_half_hour_imputed\"], ts_df.loc[window, \"energy_consumption\"])"
   ]
  },
  {
   "cell_type": "code",
   "execution_count": 0,
   "metadata": {
    "application/vnd.databricks.v1+cell": {
     "cellMetadata": {},
     "inputWidgets": {},
     "nuid": "667efbfe-7e29-464b-9443-1c10cbfccf15",
     "showTitle": false,
     "title": ""
    }
   },
   "outputs": [],
   "source": [
    "recovered_matrix_seas_interp_half_hour = SeasonalInterpolation(seasonal_period=48,\n",
    "                                                     decomposition_strategy=\"additive\", \n",
    "                                                     interpolation_strategy=\"spline\", \n",
    "                                                     interpolation_args={\"order\":3}, \n",
    "                                                     min_value=0).fit_transform(ts_df.energy_consumption_missing.values.reshape(-1,1))\n",
    "\n",
    "ts_df['seas_interp_half_hour_imputed'] = recovered_matrix_seas_interp_half_hour\n",
    "mae_half_hour = mean_absolute_error(ts_df.loc[window, \"seas_interp_half_hour_imputed\"], ts_df.loc[window, \"energy_consumption\"])"
   ]
  },
  {
   "cell_type": "code",
   "execution_count": 0,
   "metadata": {
    "application/vnd.databricks.v1+cell": {
     "cellMetadata": {},
     "inputWidgets": {},
     "nuid": "467037d1-53fb-4c43-ba70-c69039843a2a",
     "showTitle": false,
     "title": ""
    }
   },
   "outputs": [],
   "source": [
    "plot_df = pd.melt(ts_df.loc[window,['energy_consumption', \"seas_interp_half_hour_imputed\", 'seas_interp_weekday_half_hour_imputed']].reset_index(), id_vars='timestamp', var_name=\"series\")\n",
    "fig = px.line(plot_df, x=\"timestamp\", y=[\"value\"], line_dash=\"series\", title=f\"Imputing with Seasonal Interpolation <br> MAE Half Hourly={mae_half_hour:.3f} | MAE Weekday-Half Hourly={mae_weekday_half_hour:.3f}\")\n",
    "fig = format_plot(fig, ['Original', 'Half Hourly Profile Imputed', 'Week Day-Half Hourly Profile Imputed'], title_font_size=16)\n",
    "fig.write_image(\"imgs/chapter_2/seasonal_interpolation_imputation.png\")\n",
    "fig"
   ]
  },
  {
   "cell_type": "markdown",
   "metadata": {
    "application/vnd.databricks.v1+cell": {
     "cellMetadata": {},
     "inputWidgets": {},
     "nuid": "3225b5ad-f75a-4939-98b1-f57667270ab7",
     "showTitle": false,
     "title": ""
    }
   },
   "source": [
    "### Summary"
   ]
  },
  {
   "cell_type": "code",
   "execution_count": 0,
   "metadata": {
    "application/vnd.databricks.v1+cell": {
     "cellMetadata": {},
     "inputWidgets": {},
     "nuid": "9528fc10-6658-4d1e-89dd-1fceaad4dbfc",
     "showTitle": false,
     "title": ""
    }
   },
   "outputs": [],
   "source": [
    "imputed_columns = [col for col in ts_df.columns if \"imputed\" in col]\n",
    "original_col = \"energy_consumption\""
   ]
  },
  {
   "cell_type": "code",
   "execution_count": 0,
   "metadata": {
    "application/vnd.databricks.v1+cell": {
     "cellMetadata": {},
     "inputWidgets": {},
     "nuid": "c4c3d914-0733-436d-92e6-684af2cb9e7a",
     "showTitle": false,
     "title": ""
    }
   },
   "outputs": [],
   "source": [
    "act = ts_df.loc[window, original_col].values\n",
    "mae_d = {}\n",
    "for col in imputed_columns:\n",
    "    mae_d[col] = mean_absolute_error(act, ts_df.loc[window, col].values)"
   ]
  },
  {
   "cell_type": "code",
   "execution_count": 0,
   "metadata": {
    "application/vnd.databricks.v1+cell": {
     "cellMetadata": {},
     "inputWidgets": {},
     "nuid": "1f6dd036-7d91-4789-ba04-6459228af908",
     "showTitle": false,
     "title": ""
    }
   },
   "outputs": [],
   "source": [
    "mae_d.keys()"
   ]
  },
  {
   "cell_type": "code",
   "execution_count": 0,
   "metadata": {
    "application/vnd.databricks.v1+cell": {
     "cellMetadata": {},
     "inputWidgets": {},
     "nuid": "847669ca-97db-4fcb-ab26-61e0a18b6b91",
     "showTitle": false,
     "title": ""
    }
   },
   "outputs": [],
   "source": [
    "res_df = pd.DataFrame.from_dict(mae_d, orient=\"index\").reset_index()\n",
    "res_df.columns=[\"Imputation\", \"MAE\"]\n",
    "res_df.Imputation = res_df.Imputation.map({\n",
    " 'prev_day_imputed': \"Previous Day\",\n",
    " 'hourly_profile_imputed': \"Hourly Profile\",\n",
    " 'day_hourly_profile_imputed': \"Day-Hourly Profile\",\n",
    " 'seas_interp_weekday_half_hour_imputed': \"Seasonal Interpolation Weekday-Half Hourly\",\n",
    " 'seas_interp_half_hour_imputed': \"Seasonal Interpolation Half Hourly\"\n",
    "})"
   ]
  },
  {
   "cell_type": "code",
   "execution_count": 0,
   "metadata": {
    "application/vnd.databricks.v1+cell": {
     "cellMetadata": {},
     "inputWidgets": {},
     "nuid": "5aafe13b-2641-4dea-b013-c36bd005edbc",
     "showTitle": false,
     "title": ""
    }
   },
   "outputs": [],
   "source": [
    "res_df"
   ]
  },
  {
   "cell_type": "code",
   "execution_count": 0,
   "metadata": {
    "application/vnd.databricks.v1+cell": {
     "cellMetadata": {},
     "inputWidgets": {},
     "nuid": "ff2f42c7-3583-4e97-940a-44f03bd68ebe",
     "showTitle": false,
     "title": ""
    }
   },
   "outputs": [],
   "source": [
    "px.line(ts_df.loc[window, imputed_columns+[original_col]].reset_index(), x=\"timestamp\", y=imputed_columns+[original_col])"
   ]
  }
 ],
 "metadata": {
  "application/vnd.databricks.v1+notebook": {
   "dashboards": [],
   "language": "python",
   "notebookMetadata": {},
   "notebookName": "03 - Handling Missing Data (Long Gaps)",
   "widgets": {}
  },
  "kernelspec": {
   "display_name": "Python 3 (ipykernel)",
   "language": "python",
   "name": "python3"
  },
  "language_info": {
   "codemirror_mode": {
    "name": "ipython",
    "version": 3
   },
   "file_extension": ".py",
   "mimetype": "text/x-python",
   "name": "python",
   "nbconvert_exporter": "python",
   "pygments_lexer": "ipython3",
   "version": "3.9.0"
  }
 },
 "nbformat": 4,
 "nbformat_minor": 0
}
